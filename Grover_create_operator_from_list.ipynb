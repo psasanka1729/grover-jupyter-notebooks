{
 "cells": [
  {
   "cell_type": "code",
   "execution_count": 158,
   "id": "b7957f05-7006-4cc6-a38d-83ec18fafce1",
   "metadata": {},
   "outputs": [],
   "source": [
    "L = 2;"
   ]
  },
  {
   "cell_type": "code",
   "execution_count": 159,
   "id": "25f1cebd-c6d2-4760-bce3-fb653a499ccc",
   "metadata": {},
   "outputs": [],
   "source": [
    "using Random\n",
    "using LinearAlgebra\n",
    "using SparseArrays\n",
    "using DelimitedFiles\n",
    "file = raw\"Grover_gates_data.txt\"\n",
    "M = readdlm(file)\n",
    "Gates_data_1 = M[:,1];\n",
    "Gates_data_2 = M[:,2];\n",
    "Gates_data_3 = M[:,3];"
   ]
  },
  {
   "cell_type": "code",
   "execution_count": 160,
   "id": "982de90a-79d1-46a7-be2a-322d63142ad3",
   "metadata": {},
   "outputs": [],
   "source": [
    "#DELTA = 0.01"
   ]
  },
  {
   "cell_type": "code",
   "execution_count": 161,
   "id": "6d5fc402-47c3-46dc-83b0-40ded1419ee1",
   "metadata": {},
   "outputs": [],
   "source": [
    "using DelimitedFiles\n",
    "file = raw\"Noise_data.txt\"\n",
    "M = readdlm(file)\n",
    "NOISE = M[:,1];"
   ]
  },
  {
   "cell_type": "code",
   "execution_count": 162,
   "id": "2c37e27d-0224-4bb3-99ce-3359bfd813d1",
   "metadata": {},
   "outputs": [
    {
     "data": {
      "text/plain": [
       "10"
      ]
     },
     "execution_count": 162,
     "metadata": {},
     "output_type": "execute_result"
    }
   ],
   "source": [
    "Number_of_Gates = 2*(2*L^2-6*L+5)+2*L+4*L-4"
   ]
  },
  {
   "cell_type": "code",
   "execution_count": 163,
   "id": "808e15be-de35-46b5-a8ca-842a2ba1b5ec",
   "metadata": {},
   "outputs": [
    {
     "data": {
      "text/plain": [
       "10"
      ]
     },
     "execution_count": 163,
     "metadata": {},
     "output_type": "execute_result"
    }
   ],
   "source": [
    "length(NOISE)"
   ]
  },
  {
   "cell_type": "code",
   "execution_count": 164,
   "id": "234a7f77-1d63-4565-9410-0b75db71dc42",
   "metadata": {},
   "outputs": [],
   "source": [
    "I2 = [1 0; 0 1];\n",
    "Z = [1 0;0 -1];\n",
    "H = (1/sqrt(2))*[1 1;1 -1]\n",
    "Rx(theta)=exp(-1im*(theta/2)*[1 1;1 1]);\n",
    "Hadamard(noise) = exp(-1im*(pi/2+noise)*(I2-H)) #Ry(pi/2+noise)*Pauli_Z;\n",
    "CX(noise) = exp(-1im*((pi/2+noise))*[1 1;1 1]);\n",
    "Identity(dimension) = 1* Matrix(I, dimension, dimension);\n",
    "int(x) = floor(Int,x);"
   ]
  },
  {
   "cell_type": "code",
   "execution_count": 165,
   "id": "d82ec79b-cf17-431c-a4d6-57ded708f1dd",
   "metadata": {},
   "outputs": [
    {
     "data": {
      "text/plain": [
       "2×2 Matrix{ComplexF64}:\n",
       " 0.707136+0.00292874im   0.707036-0.0070706im\n",
       " 0.707036-0.0070706im   -0.706936+0.0170699im"
      ]
     },
     "execution_count": 165,
     "metadata": {},
     "output_type": "execute_result"
    }
   ],
   "source": [
    "Hadamard(0.01)"
   ]
  },
  {
   "cell_type": "code",
   "execution_count": 166,
   "id": "88682357-622d-483b-8543-0e461f9fa337",
   "metadata": {},
   "outputs": [],
   "source": [
    "function Matrix_Gate(Gate, Qubit) # Previously known as multi qubit gate.\n",
    "    \n",
    "    ## The case Qubit=1 is treated differently because we need to\n",
    "    # initialize the matrix as U before starting the kronecker product.\n",
    "    \n",
    "    if Qubit == 1\n",
    "        \n",
    "        M = sparse(Gate)\n",
    "        for i=2:L\n",
    "            M = kron(M, sparse([1 0;0 1]))\n",
    "        end\n",
    "        \n",
    "    else\n",
    "        \n",
    "        M = sparse([1 0;0 1])\n",
    "        for i=2:L\n",
    "            if i == Qubit\n",
    "                M = kron(M, Gate)\n",
    "            else\n",
    "                M = kron(M, sparse([1 0;0 1]))\n",
    "            end\n",
    "        end\n",
    "    end\n",
    "    \n",
    "    return M\n",
    "end;"
   ]
  },
  {
   "cell_type": "code",
   "execution_count": 167,
   "id": "4a1cdbdc-2310-4681-b722-8fd7a61421ef",
   "metadata": {},
   "outputs": [],
   "source": [
    "function CU(U,c,t)\n",
    "    \n",
    "    I2 = sparse([1 0;0 1])\n",
    "    Z = sparse([1 0;0 -1])\n",
    "\n",
    "    PI_0 = (I2+Z)/2\n",
    "    PI_1 = (I2-Z)/2\n",
    "     \n",
    "    #function Rx(Noise)\n",
    "        #A = cos((pi+Noise)/2)\n",
    "        #B = -1im*sin((pi+Noise)/2)\n",
    "        #return 1im*[A B;B A]\n",
    "    #end\n",
    "    \n",
    "    Matrices = Dict(\"I\" => I2,\"PI_0\" => PI_0,\"U\" => U, \"PI_1\" => PI_1)\n",
    "    \n",
    "    p0 = fill(\"I\", L)\n",
    "    p1 = fill(\"I\", L)\n",
    "    \n",
    "    p0[c] = \"PI_0\"\n",
    "    p1[c] = \"PI_1\"\n",
    "    p1[t] = \"U\"\n",
    "\n",
    "    \n",
    "    PI_0_matrix = Matrices[p0[1]]\n",
    "    for i = 2:L\n",
    "        PI_0_matrix = kron(PI_0_matrix,Matrices[p0[i]])\n",
    "    end        \n",
    "        \n",
    "    PI_1_matrix = Matrices[p1[1]]   \n",
    "    for i = 2:L\n",
    "        PI_1_matrix = kron(PI_1_matrix,Matrices[p1[i]])        \n",
    "    end\n",
    "           \n",
    "    #return p0,p1\n",
    "    return PI_0_matrix + PI_1_matrix     \n",
    "end;"
   ]
  },
  {
   "cell_type": "code",
   "execution_count": 168,
   "id": "d80254ef-01ff-4571-8a46-d936d9588485",
   "metadata": {},
   "outputs": [],
   "source": [
    "using PyCall\n",
    "py\"\"\"\n",
    "import numpy\n",
    "import numpy.linalg\n",
    "def adjoint(psi):\n",
    "    return psi.conjugate().transpose()\n",
    "def psi_to_rho(psi):\n",
    "    return numpy.outer(psi,psi.conjugate())\n",
    "def exp_val(psi, op):\n",
    "    return numpy.real(numpy.dot(adjoint(psi),op.dot(psi)))\n",
    "def norm_sq(psi):\n",
    "    return numpy.real(numpy.dot(adjoint(psi),psi))\n",
    "def normalize(psi,tol=1e-9):\n",
    "    ns=norm_sq(psi)**0.5\n",
    "    if ns < tol:\n",
    "        raise ValueError\n",
    "    return psi/ns\n",
    "def is_herm(M,tol=1e-9):\n",
    "    if M.shape[0]!=M.shape[1]:\n",
    "        return False\n",
    "    diff=M-adjoint(M)\n",
    "    return max(numpy.abs(diff.flatten())) < tol\n",
    "def is_unitary(M,tol=1e-9):\n",
    "    if M.shape[0]!=M.shape[1]:\n",
    "        return False\n",
    "    diff=M.dot(adjoint(M))-numpy.identity((M.shape[0]))\n",
    "    return max(numpy.abs(diff.flatten())) < tol\n",
    "def eigu(U,tol=1e-9):\n",
    "    (E_1,V_1)=numpy.linalg.eigh(U+adjoint(U))\n",
    "    U_1=adjoint(V_1).dot(U).dot(V_1)\n",
    "    H_1=adjoint(V_1).dot(U+adjoint(U)).dot(V_1)\n",
    "    non_diag_lst=[]\n",
    "    j=0\n",
    "    while j < U_1.shape[0]:\n",
    "        k=0\n",
    "        while k < U_1.shape[0]:\n",
    "            if j!=k and abs(U_1[j,k]) > tol:\n",
    "                if j not in non_diag_lst:\n",
    "                    non_diag_lst.append(j)\n",
    "                if k not in non_diag_lst:\n",
    "                    non_diag_lst.append(k)\n",
    "            k+=1\n",
    "        j+=1\n",
    "    if len(non_diag_lst) > 0:\n",
    "        non_diag_lst=numpy.sort(numpy.array(non_diag_lst))\n",
    "        U_1_cut=U_1[non_diag_lst,:][:,non_diag_lst]\n",
    "        (E_2_cut,V_2_cut)=numpy.linalg.eigh(1.j*(U_1_cut-adjoint(U_1_cut)))\n",
    "        V_2=numpy.identity((U.shape[0]),dtype=V_2_cut.dtype)\n",
    "        for j in range(len(non_diag_lst)):\n",
    "            V_2[non_diag_lst[j],non_diag_lst]=V_2_cut[j,:]\n",
    "        V_1=V_1.dot(V_2)\n",
    "        U_1=adjoint(V_2).dot(U_1).dot(V_2)\n",
    "    # Sort by phase\n",
    "    U_1=numpy.diag(U_1)\n",
    "    inds=numpy.argsort(numpy.imag(numpy.log(U_1)))\n",
    "    return (U_1[inds],V_1[:,inds]) # = (U_d,V) s.t. U=V*U_d*V^\\dagger\n",
    "\"\"\"\n",
    "\n",
    "py\"\"\"\n",
    "f = open('exact_G_eigenvalues'+'.txt', 'w')\n",
    "def Write_file(Eigenvalue):\n",
    "    f = open('exact_G_eigenvalues'+'.txt', 'a')\n",
    "    f.write(str(Eigenvalue) +'\\n')\n",
    "\"\"\""
   ]
  },
  {
   "cell_type": "code",
   "execution_count": 169,
   "id": "bb77daf8-0455-46bb-bdf9-43d568434eed",
   "metadata": {},
   "outputs": [
    {
     "data": {
      "text/plain": [
       "4×4 Matrix{ComplexF64}:\n",
       " 0.707107+0.0im       …          0.0+0.0im        0.0+0.0im\n",
       "      0.0-0.408248im        0.710106+0.0im   0.403009+0.0im\n",
       "      0.0-0.408248im     -0.00603653+0.0im  -0.816474+0.0im\n",
       "      0.0-0.408248im       -0.704069+0.0im   0.413465+0.0im"
      ]
     },
     "execution_count": 169,
     "metadata": {},
     "output_type": "execute_result"
    }
   ],
   "source": [
    "U_0 = [-1 0 0 0; 0 1 0 0; 0 0 1 0;0 0 0 1];\n",
    "A = ones(2^L,2^L);\n",
    "U_x = (2/2^L)*A-Identity(2^L); # 2\\s><s|-I\n",
    "G_exact = U_x*U_0\n",
    "V = py\"eigu\"(G_exact)[2]"
   ]
  },
  {
   "cell_type": "markdown",
   "id": "620dc94b-b37b-4b85-9c1e-0c364491863a",
   "metadata": {},
   "source": [
    "### Grover matrix constructed from data file"
   ]
  },
  {
   "cell_type": "code",
   "execution_count": 170,
   "id": "99fd210c-0b6a-4069-8b1e-e92e64235c27",
   "metadata": {},
   "outputs": [],
   "source": [
    "#DELTA = 0.01\n",
    "function Eigenvalues(DELTA)\n",
    "    \n",
    "    U_list = [];\n",
    "    U_noise_list = [];\n",
    "    U_x_delta = sparse(Identity(2^L));\n",
    "    #ux_list = []\n",
    "    NOISE_list = []\n",
    "\n",
    "    Gates_data_new_1 = []\n",
    "    Gates_data_new_2 = []\n",
    "    Gates_data_new_3 = []\n",
    "    \n",
    "    # U_x\n",
    "    for i = (2*L^2-4*L+5)+1 : 2*(2*L^2-6*L+5)+2*L+4*L-4\n",
    "        if Gates_data_1[i] == \"H\"\n",
    "            \n",
    "            \n",
    "            epsilon = NOISE[i]\n",
    "            push!(NOISE_list,epsilon)\n",
    "            h_matrix = Matrix_Gate(Hadamard(DELTA*epsilon), Gates_data_3[i])\n",
    "            U_x_delta *= h_matrix\n",
    "        \n",
    "            push!(Gates_data_new_1,\"H\")\n",
    "            push!(Gates_data_new_2,0.0)\n",
    "            push!(Gates_data_new_3,Gates_data_3[i])\n",
    "        \n",
    "            push!(U_noise_list,h_matrix) # Noise.\n",
    "        \n",
    "            push!(U_list,Matrix_Gate(Hadamard(0.0), Gates_data_3[i])) # Noiseless.\n",
    "            \n",
    "        elseif Gates_data_1[i] == \"X\"\n",
    "        \n",
    "            epsilon = NOISE[i]\n",
    "            push!(NOISE_list,epsilon)        \n",
    "            x_matrix = Matrix_Gate(CX(DELTA*epsilon),Gates_data_3[i])\n",
    "            U_x_delta *= x_matrix\n",
    "        \n",
    "            push!(Gates_data_new_1,\"X\")\n",
    "            push!(Gates_data_new_2,0.0)\n",
    "            push!(Gates_data_new_3,Gates_data_3[i]) \n",
    "        \n",
    "            push!(U_noise_list,x_matrix) # Noise.\n",
    "        \n",
    "            push!(U_list,Matrix_Gate(CX(0.0),Gates_data_3[i])) # Noiseless.\n",
    "            \n",
    "        else\n",
    "            #push!(ux_list,\"CRX\")\n",
    "        \n",
    "            epsilon = NOISE[i]\n",
    "            push!(NOISE_list,epsilon)        \n",
    "            rx_matrix = CU(Rx(Gates_data_1[i]+DELTA*epsilon), Gates_data_2[i], Gates_data_3[i])\n",
    "            U_x_delta *= rx_matrix\n",
    "        \n",
    "            push!(Gates_data_new_1,Gates_data_1[i])\n",
    "            push!(Gates_data_new_2,Gates_data_2[i])\n",
    "            push!(Gates_data_new_3,Gates_data_3[i])\n",
    "        \n",
    "            push!(U_noise_list,rx_matrix) # Noise.\n",
    "        \n",
    "            push!(U_list,CU(Rx(Gates_data_1[i]), Gates_data_2[i], Gates_data_3[i])) # Noiselss.\n",
    "            \n",
    "        end\n",
    "    end\n",
    "    \n",
    "    U_0_delta = sparse(Identity(2^L));\n",
    "    \n",
    "    #u0_list = []\n",
    "    # U_0\n",
    "    for i = 1 : 2*L^2-4*L+5\n",
    "        if Gates_data_1[i] == \"H\"\n",
    "        \n",
    "            epsilon = NOISE[i]\n",
    "            push!(NOISE_list,epsilon)        \n",
    "            h_matrix = Matrix_Gate(Hadamard(DELTA*epsilon), Gates_data_3[i])\n",
    "            U_0_delta *= h_matrix\n",
    "        \n",
    "            push!(Gates_data_new_1,\"H\")\n",
    "            push!(Gates_data_new_2,0.0)\n",
    "            push!(Gates_data_new_3,Gates_data_3[i])\n",
    "        \n",
    "            push!(U_noise_list,h_matrix) # Noise.\n",
    "        \n",
    "            push!(U_list,Matrix_Gate(Hadamard(0.0), Gates_data_3[i])) # Noiseless.\n",
    "            \n",
    "        elseif Gates_data_1[i] == \"X\"\n",
    "\n",
    "        \n",
    "            epsilon = NOISE[i]\n",
    "            push!(NOISE_list,epsilon)        \n",
    "            x_matrix = Matrix_Gate(CX(DELTA*epsilon),Gates_data_3[i])\n",
    "            U_0_delta *= x_matrix\n",
    "        \n",
    "            push!(Gates_data_new_1,\"X\")\n",
    "            push!(Gates_data_new_2,0.0)\n",
    "            push!(Gates_data_new_3,Gates_data_3[i]) \n",
    "        \n",
    "            push!(U_noise_list,x_matrix) # Noise.\n",
    "        \n",
    "            push!(U_list,Matrix_Gate(CX(0.0),Gates_data_3[i])) # Noiseless.\n",
    "            \n",
    "        else\n",
    "            #push!(u0_list,\"CRX\")\n",
    "        \n",
    "            epsilon = NOISE[i]\n",
    "            push!(NOISE_list,epsilon)        \n",
    "            rx_matrix = CU(Rx(Gates_data_1[i]+DELTA*epsilon), Gates_data_2[i], Gates_data_3[i])\n",
    "            U_0_delta *= rx_matrix\n",
    "        \n",
    "            push!(Gates_data_new_1,Gates_data_1[i])\n",
    "            push!(Gates_data_new_2,Gates_data_2[i])\n",
    "            push!(Gates_data_new_3,Gates_data_3[i])\n",
    "        \n",
    "            push!(U_noise_list,rx_matrix) # Noise.\n",
    "        \n",
    "            push!(U_list,CU(Rx(Gates_data_1[i]), Gates_data_2[i], Gates_data_3[i])) # Noiseless.\n",
    "            \n",
    "        end\n",
    "    end\n",
    "        \n",
    "    GROVER_DELTA = U_x_delta*U_0_delta\n",
    "    \n",
    "    function kth_term(k)\n",
    "\n",
    "            f_k = Identity(2^L);\n",
    "    \n",
    "            for i = k:length(U_list)-1\n",
    "                f_k = f_k*collect(U_list[length(U_list)-i+k])\n",
    "            end     \n",
    "            #= Corresponding H for the kth term. =#\n",
    "            if Gates_data_new_1[k] == \"H\"\n",
    "\n",
    "                Qubit = Gates_data_new_3[k] # qubit.\n",
    "                H_k = Matrix_Gate(I2-H,Qubit) #= H_had = I2-Had. =#\n",
    "\n",
    "            elseif Gates_data_new_1[k] == \"X\"\n",
    "\n",
    "                Qubit = Gates_data_new_3[k] # qubit.\n",
    "                H_k = Matrix_Gate([1 1;1 1],Qubit) #= H_X = X+I2. =#\n",
    "\n",
    "            else\n",
    "        \n",
    "                Angle = Gates_data_new_1[k]\n",
    "                Control_Qubit = int(Gates_data_new_2[k])\n",
    "                Target_Qubit = int(Gates_data_new_3[k])\n",
    "                #= H = ((I-Z)/2)_c \\otimes ((I+X)/2)_t.=#\n",
    "                Matrices = Dict(\"I\" => I,\"U\" => [1 1;1 1]/2, \"PI_1\" => (I2-Z)/2)\n",
    "                p1 = fill(\"I\", L)\n",
    "                p1[Control_Qubit] = \"PI_1\"\n",
    "                p1[Target_Qubit] = \"U\"\n",
    "                H_k = Matrices[p1[1]]\n",
    "                for i = 2:L\n",
    "                    H_k = kron(H_k,Matrices[p1[i]])\n",
    "                end                                 \n",
    "            end\n",
    "    \n",
    "    \n",
    "        return f_k*H_k*(f_k')\n",
    "    end;        \n",
    "    \n",
    "    EIGU = py\"eigu\"(collect(GROVER_DELTA))\n",
    "    E_exact = real(1im*log.(EIGU[1])); # Eigenvalue.\n",
    "    E_exact = E_exact[2:2^L-1]; #= Neglecting the two special states at 1 and 2^L. =#\n",
    "    \n",
    "    #= The following loop sums over all epsilon to get H_eff. =#\n",
    "    h_eff = zeros(2^L,2^L);\n",
    "    for i = 1:length(U_list)\n",
    "        h_eff += NOISE_list[i]*kth_term(i)\n",
    "    end        \n",
    "\n",
    "    h_eff = DELTA * h_eff # Matrix in Z basis.\n",
    "    h_eff_D = (V')*h_eff*(V) # Matrix in |0> and |xbar> basis.\n",
    "    h_eff_D = exp(-1im*h_eff_D[3:2^L,3:2^L]) # |0> and |xbar> basis states are deleted.\n",
    "    E_eff_D = py\"eigu\"(h_eff_D)[1] # Matrix is diagonalized.\n",
    "    E_eff_D = real(1im*log.(E_eff_D)) # Extracing phi_f from exp(-i*phi_F).\n",
    "    E_eff_D_sorted = sort(real(E_eff_D),rev = true); # Soring the eigenvalues in descending order.\n",
    "\n",
    "    \n",
    "    return E_exact, E_eff_D_sorted\n",
    "    #return GROVER_DELTA\n",
    "end;"
   ]
  },
  {
   "cell_type": "code",
   "execution_count": 171,
   "id": "2e82f53e-6d84-47c3-ba34-1fdb2ae57aa1",
   "metadata": {},
   "outputs": [],
   "source": [
    "#E_exact"
   ]
  },
  {
   "cell_type": "code",
   "execution_count": 172,
   "id": "aa38452a-653b-45bf-a8ac-2e23c6035209",
   "metadata": {},
   "outputs": [],
   "source": [
    "#E_eff"
   ]
  },
  {
   "cell_type": "code",
   "execution_count": 173,
   "id": "a4c66093-7bae-4086-b54f-43b8d33c025e",
   "metadata": {},
   "outputs": [],
   "source": [
    "#=G_noise = Identity(2^L)\n",
    "for U in U_noise_list\n",
    "    G_noise = G_noise*U\n",
    "end\n",
    "G_noise=#"
   ]
  },
  {
   "cell_type": "markdown",
   "id": "1923bdd8-0e88-479b-81f9-093deb01ef33",
   "metadata": {},
   "source": [
    "### Comparison of approximation"
   ]
  },
  {
   "cell_type": "code",
   "execution_count": 174,
   "id": "3038ea05-5ab9-4b58-ba62-168c3375c21c",
   "metadata": {},
   "outputs": [],
   "source": [
    "#=\n",
    "t_1 = U_list[1]*(Identity(2^L)-1im*DELTA*NOISE_list[1]*Matrix_Gate(I2-H,1))#-collect(U_noise_list[1])\n",
    "t_2 = U_list[2]*(Identity(2^L)-1im*DELTA*NOISE_list[2]*Matrix_Gate([1 1;1 1],1))#-collect(U_noise_list[2])\n",
    "t_3 = U_list[3]*(Identity(2^L)-1im*DELTA*NOISE_list[3]*kron((I2-Z)/2,[1 1;1 1]/2))#-collect(U_noise_list[3])\n",
    "t_4 = U_list[4]*(Identity(2^L)-1im*DELTA*NOISE_list[4]*Matrix_Gate([1 1;1 1],1))#-collect(U_noise_list[4])\n",
    "t_5 = U_list[5]*(Identity(2^L)-1im*DELTA*NOISE_list[5]*Matrix_Gate(I2-H,1))#-collect(U_noise_list[5])\n",
    "t_6 = U_list[6]*(Identity(2^L)-1im*DELTA*NOISE_list[6]*Matrix_Gate([1 1;1 1],1))#-collect(U_noise_list[6])\n",
    "t_7 = U_list[7]*(Identity(2^L)-1im*DELTA*NOISE_list[7]*Matrix_Gate(I2-H,2))#-collect(U_noise_list[7])\n",
    "t_8 = U_list[8]*(Identity(2^L)-1im*DELTA*NOISE_list[8]*kron((I2-Z)/2,[1 1;1 1]/2))#-collect(U_noise_list[8])\n",
    "t_9 = U_list[9]*(Identity(2^L)-1im*DELTA*NOISE_list[9]*Matrix_Gate([1 1;1 1],1))#-collect(U_noise_list[9])\n",
    "t_10 = U_list[10]*(Identity(2^L)-1im*DELTA*NOISE_list[10]*Matrix_Gate(I2-H,2))#-collect(U_noise_list[10])=#"
   ]
  },
  {
   "cell_type": "code",
   "execution_count": 175,
   "id": "c8230b47-030d-4bd9-8fb1-e9780f0b1ad5",
   "metadata": {},
   "outputs": [],
   "source": [
    "#U_x = t_1*t_2*t_3*t_4*t_5"
   ]
  },
  {
   "cell_type": "code",
   "execution_count": 176,
   "id": "72990b27-2036-4ba0-aa25-396727fea4e5",
   "metadata": {},
   "outputs": [],
   "source": [
    "#U_0 = t_6*t_7*t_8*t_9*t_10"
   ]
  },
  {
   "cell_type": "code",
   "execution_count": 177,
   "id": "00809149-c3b2-491a-bcf5-a576ea425e47",
   "metadata": {},
   "outputs": [],
   "source": [
    "#=H1 = Matrix_Gate(I2-H,1)\n",
    "H2 = Matrix_Gate([1 1;1 1],1)\n",
    "H3 = kron((I2-Z)/2,[1 1;1 1]/2)\n",
    "H4 = Matrix_Gate([1 1;1 1],1)\n",
    "H5 = Matrix_Gate(I2-H,1)\n",
    "H6 = Matrix_Gate([1 1;1 1],1)\n",
    "H7 = Matrix_Gate(I2-H,2)\n",
    "H8 = kron((I2-Z)/2,[1 1;1 1]/2)\n",
    "H9 = Matrix_Gate([1 1;1 1],1)\n",
    "H10 = Matrix_Gate(I2-H,2)=#"
   ]
  },
  {
   "cell_type": "code",
   "execution_count": 178,
   "id": "baf4bb45-66d4-4536-b9b5-7b718062ad28",
   "metadata": {},
   "outputs": [],
   "source": [
    "#=H_eff_10 = NOISE_list[10]*H10\n",
    "H_eff_9 = NOISE_list[9]*U_list[10]*H9*(U_list[10])'\n",
    "H_eff_8 = NOISE_list[8]*U_list[10]*U_list[9]*H8*(U_list[10]*U_list[9])'\n",
    "H_eff_7 = NOISE_list[7]*U_list[10]*U_list[9]*U_list[8]*H7*(U_list[10]*U_list[9]*U_list[8])'\n",
    "H_eff_6 = NOISE_list[6]*U_list[10]*U_list[9]*U_list[8]*U_list[7]*H6*(U_list[10]*U_list[9]*U_list[8]*U_list[7])'\n",
    "H_eff_5 = NOISE_list[5]*U_list[10]*U_list[9]*U_list[8]*U_list[7]*U_list[6]*H5*(U_list[10]*U_list[9]*U_list[8]*U_list[7]*U_list[6])'\n",
    "H_eff_4 = NOISE_list[4]*U_list[10]*U_list[9]*U_list[8]*U_list[7]*U_list[6]*U_list[5]*H4*(U_list[10]*U_list[9]*U_list[8]*U_list[7]*U_list[6]*U_list[5])'\n",
    "H_eff_3 = NOISE_list[3]*U_list[10]*U_list[9]*U_list[8]*U_list[7]*U_list[6]*U_list[5]*U_list[4]*H3*(U_list[10]*U_list[9]*U_list[8]*U_list[7]*U_list[6]*U_list[5]*U_list[4])'\n",
    "H_eff_2 = NOISE_list[2]*U_list[10]*U_list[9]*U_list[8]*U_list[7]*U_list[6]*U_list[5]*U_list[4]*U_list[3]*H2*(U_list[10]*U_list[9]*U_list[8]*U_list[7]*U_list[6]*U_list[5]*U_list[4]*U_list[3])'\n",
    "H_eff_1 = NOISE_list[1]*U_list[10]*U_list[9]*U_list[8]*U_list[7]*U_list[6]*U_list[5]*U_list[4]*U_list[3]*U_list[2]*H1*(U_list[10]*U_list[9]*U_list[8]*U_list[7]*U_list[6]*U_list[5]*U_list[4]*U_list[3]*U_list[2])'=#"
   ]
  },
  {
   "cell_type": "code",
   "execution_count": 179,
   "id": "c32420df-7d79-453a-b659-ace24aefbf30",
   "metadata": {},
   "outputs": [],
   "source": [
    "#h_eff_manual = DELTA*(H_eff_1+H_eff_2+H_eff_3+H_eff_4+H_eff_5+H_eff_6+H_eff_7+H_eff_8+H_eff_9+H_eff_10)"
   ]
  },
  {
   "cell_type": "code",
   "execution_count": 180,
   "id": "682b7625-b669-4797-b37f-765b34cabcb4",
   "metadata": {},
   "outputs": [],
   "source": [
    "#V = py\"eigu\"(G_exact)[2]\n",
    "#round.(V'*V,digits=2)"
   ]
  },
  {
   "cell_type": "code",
   "execution_count": 181,
   "id": "8abbda4e-f07f-4f21-a31d-a982ce4397df",
   "metadata": {},
   "outputs": [],
   "source": [
    "#h_eff_D = V*h_eff_manual*V'\n",
    "#h_eff_D = h_eff_D[3:2^L,3:2^L]\n",
    "#E_eff_D = eigen(h_eff_D).values\n",
    "#sort(real(E_eff_D),rev = true)"
   ]
  },
  {
   "cell_type": "code",
   "execution_count": 182,
   "id": "89077ac0-d3b0-4799-a7b4-83ffae1225d0",
   "metadata": {},
   "outputs": [],
   "source": [
    "#E_exact"
   ]
  },
  {
   "cell_type": "code",
   "execution_count": 183,
   "id": "9b551fe2-ad07-4ec5-b603-7750a91ed83d",
   "metadata": {},
   "outputs": [],
   "source": [
    "function x_bar(n)\n",
    "    k(n) = ((2*pi*n)/(2^L-2)) # n = 0,1,...,2^L-2 .\n",
    "    function ket(j) # j = 0,1,2,...,2^L-1 .x\n",
    "        my_ket = zeros(2^L)\n",
    "        my_ket[j+1] = 1\n",
    "        return my_ket\n",
    "    end\n",
    "    s = zeros(2^L)\n",
    "    for j = 1:2^L-2\n",
    "        s += exp(1im*j*k(n)) .* ket(j)\n",
    "    end\n",
    "    return s/sqrt(2^L-2)\n",
    "end;"
   ]
  },
  {
   "cell_type": "code",
   "execution_count": null,
   "id": "09f4bd21-ac57-44a1-b8f4-10489f027197",
   "metadata": {},
   "outputs": [],
   "source": []
  },
  {
   "cell_type": "code",
   "execution_count": null,
   "id": "7e5e8c66-541a-44d3-98f6-49342c06324b",
   "metadata": {},
   "outputs": [],
   "source": []
  },
  {
   "cell_type": "code",
   "execution_count": 184,
   "id": "38752f7c-492f-4ccf-9a87-e609b52f5994",
   "metadata": {},
   "outputs": [],
   "source": [
    "#=\n",
    "# 10 th term. H_2\n",
    "H10 = Matrix_Gate(I2-H,2)\n",
    "# 9 th term. X_1\n",
    "H9 = U_list[10]*Matrix_Gate([1 1;1 1],1)*(U_list[10])'\n",
    "# 8 th term. CX_1_2\n",
    "M8 = kron((I-Z)/2,[1 1;1 1]/2)\n",
    "H8 = U_list[10]*U_list[9]*M8*(U_list[10]*U_list[9])'\n",
    "# 7 th term. H_2\n",
    "H7 = U_list[10]*U_list[9]*U_list[8]*Matrix_Gate(I2-H,2)*(U_list[10]*U_list[9]*U_list[8])'\n",
    "# 6 th term. X_1\n",
    "H6 = U_list[10]*U_list[9]*U_list[8]*U_list[7]*Matrix_Gate([1 1;1 1],1)*(U_list[10]*U_list[9]*U_list[8]*U_list[7])'\n",
    "# 5 th term. H_1\n",
    "H5 = U_list[10]*U_list[9]*U_list[8]*U_list[7]*U_list[6]*Matrix_Gate(I2-H,1)*(U_list[10]*U_list[9]*U_list[8]*U_list[7]*U_list[6])'\n",
    "# 4 th term. X_1\n",
    "H4 = U_list[10]*U_list[9]*U_list[8]*U_list[7]*U_list[6]*U_list[5]*Matrix_Gate([1 1;1 1],1)*(U_list[10]*U_list[9]*U_list[8]*U_list[7]*U_list[6]*U_list[5])'\n",
    "# 3 rd term. CX_12\n",
    "M3 = kron((I-Z)/2,[1 1;1 1]/2)\n",
    "H3 = U_list[10]*U_list[9]*U_list[8]*U_list[7]*U_list[6]*U_list[5]*U_list[4]*M3*(U_list[10]*U_list[9]*U_list[8]*U_list[7]*U_list[6]*U_list[5]*U_list[4])'\n",
    "# 2 nd term. X_1\n",
    "H2 = U_list[10]*U_list[9]*U_list[8]*U_list[7]*U_list[6]*U_list[5]*U_list[4]*U_list[3]*Matrix_Gate([1 1;1 1],1)*(U_list[10]*U_list[9]*U_list[8]*U_list[7]*U_list[6]*U_list[5]*U_list[4]*U_list[3])'\n",
    "# 1 st term. H_1\n",
    "H1 = U_list[10]*U_list[9]*U_list[8]*U_list[7]*U_list[6]*U_list[5]*U_list[4]*U_list[3]*U_list[2]*Matrix_Gate(I2-H,1)*(U_list[10]*U_list[9]*U_list[8]*U_list[7]*U_list[6]*U_list[5]*U_list[4]*U_list[3]*U_list[2])'=#"
   ]
  },
  {
   "cell_type": "code",
   "execution_count": 185,
   "id": "bc61102d-95b2-4b85-99c6-d95b52c2052c",
   "metadata": {},
   "outputs": [],
   "source": [
    "#H_EFF = NOISE_list[10]*H10+NOISE_list[9]*H9+NOISE_list[8]*H8+NOISE_list[7]*H7+NOISE_list[6]*H6+NOISE_list[5]*H5+NOISE_list[4]*H4+NOISE_list[3]*H3+NOISE_list[2]*H2+NOISE_list[1]*H1"
   ]
  },
  {
   "cell_type": "code",
   "execution_count": 186,
   "id": "1de48bcf-4d97-4471-bd3f-9208e33e3d2f",
   "metadata": {},
   "outputs": [],
   "source": [
    "#eigen(DELTA*H_EFF[3:2^L,3:2^L]).values"
   ]
  },
  {
   "cell_type": "markdown",
   "id": "21ec6eaf-b9b5-4189-a182-a97d900a266d",
   "metadata": {},
   "source": [
    "### Grover matrix from calculating the Hs"
   ]
  },
  {
   "cell_type": "code",
   "execution_count": 187,
   "id": "9a41488e-ea79-468f-84af-85716f36abf3",
   "metadata": {},
   "outputs": [],
   "source": [
    "#for i in U_noise_list\n",
    "    #println(i[1])\n",
    "#end"
   ]
  },
  {
   "cell_type": "code",
   "execution_count": 188,
   "id": "b4bbb2f2-c89d-48bd-8181-98f6977c2874",
   "metadata": {},
   "outputs": [],
   "source": [
    "#Gates_data_new_1"
   ]
  },
  {
   "cell_type": "code",
   "execution_count": 189,
   "id": "5627d672-a3e2-46e3-9fae-bd90381b8aaf",
   "metadata": {},
   "outputs": [],
   "source": [
    "#Gates_data_new_2"
   ]
  },
  {
   "cell_type": "code",
   "execution_count": 190,
   "id": "8e02aa48-9105-421d-ae31-72ec6d138ad2",
   "metadata": {},
   "outputs": [],
   "source": [
    "#Gates_data_new_3"
   ]
  },
  {
   "cell_type": "code",
   "execution_count": 191,
   "id": "94c3f294-1acf-4f7e-b12c-6cededc718fd",
   "metadata": {},
   "outputs": [],
   "source": [
    "#collect(U_noise_list[4])\n",
    "#real(U_list[2])\n",
    "#X = exp(-1im*(pi/2)*(I2-[0 1;1 0]));\n",
    "#real(Matrix_Gate(X,1))"
   ]
  },
  {
   "cell_type": "code",
   "execution_count": 192,
   "id": "a04a757e-583b-4a4d-b053-565a383e7202",
   "metadata": {},
   "outputs": [],
   "source": [
    "#U_list[1]*(Identity(2^L)-1im*DELTA*NOISE[1]*Matrix_Gate(I2-H,1))\n",
    "#collect(X*(Identity(2^L)-1im*DELTA*NOISE_list[4]*Matrix_Gate([1 1;1 1],1)))"
   ]
  },
  {
   "cell_type": "markdown",
   "id": "86927811-4240-4c75-86c7-3703ae7bad2b",
   "metadata": {},
   "source": [
    "### Exact\n",
    "$X\\otimes I_{2} = \\exp[-i (\\frac{\\pi}{2}+\\delta \\epsilon)\\{(I_{2}-X)\\otimes I_{2}\\} ]$"
   ]
  },
  {
   "cell_type": "code",
   "execution_count": 193,
   "id": "a47dbe98-8b74-48b5-a3e0-63d626276819",
   "metadata": {},
   "outputs": [],
   "source": [
    "#delta = 0.08\n",
    "#X_gate = [0 1;1 0]\n",
    "#U_EXACT = exp(-1im*(pi/2+delta*0.1)*kron([1 0;0 1]-X_gate,[1 0;0 1]))[1,1]"
   ]
  },
  {
   "cell_type": "markdown",
   "id": "bca9fd34-faa1-4e86-8df3-003ee5302037",
   "metadata": {},
   "source": [
    "### Approximation\n",
    "$X\\otimes I_{2} = \\exp[-i(\\frac{\\pi}{2})(I_{2}-X)\\otimes I_{2}]\\{I_{4}-i\\delta\\epsilon(I_{2}-X)\\otimes I_{2}\\} = (X \\otimes I_{2})\\{1-i\\delta\\epsilon(I_{2}-X)\\otimes I_{2}\\}$"
   ]
  },
  {
   "cell_type": "code",
   "execution_count": 194,
   "id": "b16326c5-486c-4fe2-b3c3-269537a49767",
   "metadata": {},
   "outputs": [],
   "source": [
    "#U_APPROX = exp(-1im*(pi/2+0.01*0.1)*kron([1 0;0 1]-X_gate,[1 0;0 1])) * ([1 0 0 0;0 1 0 0;0 0 1 0;0 0 0 1]-1im*delta*0.1*kron([1 0;0 1]-X_gate,[1 0;0 1]))"
   ]
  },
  {
   "cell_type": "code",
   "execution_count": 195,
   "id": "7e8ec809-bdd0-486c-8234-d04233dfc3a9",
   "metadata": {},
   "outputs": [],
   "source": [
    "#det(U_EXACT.-U_APPROX)"
   ]
  },
  {
   "cell_type": "code",
   "execution_count": 196,
   "id": "773b4f2a-b5a9-46ed-b078-3d307ad5d7a8",
   "metadata": {},
   "outputs": [],
   "source": [
    "py\"\"\"\n",
    "f = open('new_eigenvalues_data'+'.txt', 'w')\n",
    "def Write_file2(delta, effective, exact):\n",
    "    f = open('new_eigenvalues_data'+'.txt', 'a')\n",
    "    f.write(str(delta) + '\\t' + str(effective)+ '\\t' + str(exact) +'\\n')\n",
    "\"\"\"\n",
    "Num = 100;\n",
    "for i = 1:Num\n",
    "    delta = 0.3*(i/Num)\n",
    "\n",
    "    EE = Eigenvalues(delta)\n",
    "    Exact = EE[1]\n",
    "    Effec = EE[2]\n",
    "    #println(Exact)\n",
    "    #println(Effec)    \n",
    "    for j = 1:2^L-2\n",
    "        py\"Write_file2\"(delta,Exact[j],Effec[j])\n",
    "\n",
    "        #println(delta);\n",
    "    end\n",
    "end"
   ]
  }
 ],
 "metadata": {
  "kernelspec": {
   "display_name": "Julia 1.8.1",
   "language": "julia",
   "name": "julia-1.8"
  },
  "language_info": {
   "file_extension": ".jl",
   "mimetype": "application/julia",
   "name": "julia",
   "version": "1.8.1"
  }
 },
 "nbformat": 4,
 "nbformat_minor": 5
}
