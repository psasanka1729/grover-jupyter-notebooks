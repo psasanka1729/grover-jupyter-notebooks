{
 "cells": [
  {
   "cell_type": "code",
   "execution_count": 261,
   "id": "6793a610-5e25-4540-8726-70637f42803d",
   "metadata": {},
   "outputs": [],
   "source": [
    "using Random\n",
    "using LinearAlgebra\n",
    "using SparseArrays\n",
    "using PyCall"
   ]
  },
  {
   "cell_type": "code",
   "execution_count": 262,
   "id": "f4a5a559-fafe-4b32-8fd2-bb7c850d35a9",
   "metadata": {},
   "outputs": [],
   "source": [
    "L = 4;\n",
    "Number_Of_Noise = 4*L^2-6*L+13-3;\n",
    "Random.seed!(7000)\n",
    "NOISE = 2*rand(Float64,Number_Of_Noise).-1;"
   ]
  },
  {
   "cell_type": "code",
   "execution_count": 263,
   "id": "b2897013-9414-4cc5-b9fa-e8b1672c13d8",
   "metadata": {},
   "outputs": [
    {
     "data": {
      "text/plain": [
       "218"
      ]
     },
     "execution_count": 263,
     "metadata": {},
     "output_type": "execute_result"
    }
   ],
   "source": [
    "4*8^2-6*8+13-3"
   ]
  },
  {
   "cell_type": "code",
   "execution_count": 264,
   "id": "b11cc9f6-dc24-4b4c-93b6-a4fa7041fe63",
   "metadata": {},
   "outputs": [],
   "source": [
    "#Rx(theta) = exp(-1im*(theta*[-1 1;1 -1]/2));\n",
    "#Rx(theta) = [cos(theta/2) -1im*sin(theta/2) ; -1im*sin(theta/2)  cos(theta/2)];\n",
    "Rx(theta) = exp(-1im*theta*[1 1;1 1]/2);"
   ]
  },
  {
   "cell_type": "code",
   "execution_count": 265,
   "id": "4a2a0ecd-4f98-4e1d-b195-b39348ee472a",
   "metadata": {},
   "outputs": [
    {
     "data": {
      "text/plain": [
       "int (generic function with 1 method)"
      ]
     },
     "execution_count": 265,
     "metadata": {},
     "output_type": "execute_result"
    }
   ],
   "source": [
    "int(x) = floor(Int,x)"
   ]
  },
  {
   "cell_type": "code",
   "execution_count": 266,
   "id": "31807210-b469-4d65-b248-b2b26af23fdc",
   "metadata": {},
   "outputs": [],
   "source": [
    "#Rx(theta) = exp(-1im*theta*[1 1;1 1]/2);\n",
    "#Rx(theta) = [cos(theta/2) -1im*sin(theta/2) ; -1im*sin(theta/2)  cos(theta/2)];#\n",
    "\n",
    "#round.(-exp(-1im*pi*([1 1;1 1]/2)); digits = 3)\n",
    "\n",
    "Ry(theta) = [cos(theta/2) -sin(theta/2) ; sin(theta/2) cos(theta/2)];\n",
    "\n",
    "Pauli_X = [0 1;1 0];\n",
    "Pauli_Y = [1 -1im;1im 0];\n",
    "Pauli_Z = [1 0;0 -1];\n",
    "X = [0 1;1 0];\n",
    "I2 = [1 0; 0 1];\n",
    "\n",
    "Hadamard(noise) = Ry(pi/2+noise)*Pauli_Z;\n",
    "CX(noise) = exp(-1im*(pi/2+noise)*(X-I2));"
   ]
  },
  {
   "cell_type": "code",
   "execution_count": 267,
   "id": "54f24f79-dbc9-4d93-9022-befcf6664d50",
   "metadata": {},
   "outputs": [],
   "source": [
    "#Had = Hadamard(0.01)"
   ]
  },
  {
   "cell_type": "code",
   "execution_count": 268,
   "id": "ad8fff0c-1bdd-42f3-880a-9846675313f3",
   "metadata": {},
   "outputs": [],
   "source": [
    "#exp(-1im*pi/2*(I2-Had))"
   ]
  },
  {
   "cell_type": "code",
   "execution_count": 269,
   "id": "20729abb-ccd4-437c-ac8c-863e2fdacd5a",
   "metadata": {},
   "outputs": [],
   "source": [
    "\"\"\"\n",
    "\n",
    "Following function takes a 2x2 matrix (Gate) and qubit position (Qubit) and\n",
    "returns the resultant matrix.\n",
    "\n",
    "For example, the matrix for the gate U acting on the 3-rd qubit for N=5\n",
    "qubit system is given by   I (x) I (x) U (x) I (x) I; where (x) is the\n",
    "tensor product.\n",
    "\n",
    "\"\"\"\n",
    "\n",
    "function Matrix_Gate(Gate, Qubit) # Previously known as multi qubit gate.\n",
    "    \n",
    "    ## The case Qubit=1 is treated differently because we need to\n",
    "    # initialize the matrix as U before starting the kronecker product.\n",
    "    \n",
    "    if Qubit == 1\n",
    "        \n",
    "        M = sparse(Gate)\n",
    "        for i=2:L\n",
    "            M = kron(M, sparse([1 0;0 1]))\n",
    "        end\n",
    "        \n",
    "    else\n",
    "        \n",
    "        M = sparse([1 0;0 1])\n",
    "        for i=2:L\n",
    "            if i == Qubit\n",
    "                M = kron(M, Gate)\n",
    "            else\n",
    "                M = kron(M, sparse([1 0;0 1]))\n",
    "            end\n",
    "        end\n",
    "    end\n",
    "    \n",
    "    return M\n",
    "end;"
   ]
  },
  {
   "cell_type": "code",
   "execution_count": 270,
   "id": "931cebd6-2645-40af-acdc-52a458d935e0",
   "metadata": {},
   "outputs": [],
   "source": [
    "Identity(dimension) = 1* Matrix(I, dimension, dimension);"
   ]
  },
  {
   "cell_type": "code",
   "execution_count": 271,
   "id": "d75ca230-a92d-4a70-8914-9ba5cd696276",
   "metadata": {},
   "outputs": [],
   "source": [
    "\"\"\"\n",
    "\n",
    "The following function returns a controlled U gate matrix.\n",
    "\n",
    "Input  : c (integer), t(integer), U (unitary operator).\n",
    "Output : Matrix of the multicontrolled U gate with control qubit c and target qubit t.\n",
    "\n",
    "\"\"\"\n",
    "\n",
    "function CU(U,c,t)\n",
    "    \n",
    "    I2 = sparse([1 0;0 1])\n",
    "    Z = sparse([1 0;0 -1])\n",
    "\n",
    "    PI_0 = (I2+Z)/2\n",
    "    PI_1 = (I2-Z)/2\n",
    "     \n",
    "    #function Rx(Noise)\n",
    "        #A = cos((pi+Noise)/2)\n",
    "        #B = -1im*sin((pi+Noise)/2)\n",
    "        #return 1im*[A B;B A]\n",
    "    #end\n",
    "    \n",
    "    Matrices = Dict(\"I\" => I2,\"PI_0\" => PI_0,\"U\" => U, \"PI_1\" => PI_1)\n",
    "    \n",
    "    p0 = fill(\"I\", L)\n",
    "    p1 = fill(\"I\", L)\n",
    "    \n",
    "    p0[c] = \"PI_0\"\n",
    "    p1[c] = \"PI_1\"\n",
    "    p1[t] = \"U\"\n",
    "\n",
    "    \n",
    "    PI_0_matrix = Matrices[p0[1]]\n",
    "    for i = 2:L\n",
    "        PI_0_matrix = kron(PI_0_matrix,Matrices[p0[i]])\n",
    "    end        \n",
    "        \n",
    "    PI_1_matrix = Matrices[p1[1]]   \n",
    "    for i = 2:L\n",
    "        PI_1_matrix = kron(PI_1_matrix,Matrices[p1[i]])        \n",
    "    end\n",
    "           \n",
    "    #return p0,p1\n",
    "    return PI_0_matrix + PI_1_matrix     \n",
    "end;"
   ]
  },
  {
   "cell_type": "code",
   "execution_count": 272,
   "id": "5bb6263c-d5ba-4f8e-9f45-14cbe4cf2007",
   "metadata": {},
   "outputs": [],
   "source": [
    "\"\"\"\n",
    "\n",
    "The following returns a multicontrolled U gate matrix.\n",
    "\n",
    "Input  : c (list), t(integer), U (unitary operator).\n",
    "Output : Matrix of the multicontrolled U gate with control qubits c and target qubit t.\n",
    "\n",
    "\"\"\"\n",
    "\n",
    "function MCU(c,t,U)\n",
    "    \n",
    "    p0 = fill(\"I\", L)\n",
    "    p1 = fill(\"I\", L)\n",
    "\n",
    "    \n",
    "    if typeof(c) == Int64\n",
    "        p0[c] = \"PI_1\"\n",
    "        p1[t] = \"PI_1\"\n",
    "        \n",
    "    else\n",
    "        for i in c\n",
    "            p0[i] = \"PI_1\"\n",
    "            p1[i] = \"PI_1\"\n",
    "        end\n",
    "    end\n",
    "    \n",
    "    p0[t] = \"I\"\n",
    "    p1[t] = \"U\"\n",
    "\n",
    "    \n",
    "    I = sparse([1 0;0 1])\n",
    "    Z = sparse([1 0;0 -1])\n",
    "    X = sparse([0 1;1 0])\n",
    "    PI_0 = (I+Z)/2\n",
    "    PI_1 = (I-Z)/2\n",
    "     \n",
    "    Matrices = Dict(\"I\" => I,\"PI_0\" => PI_0,\"U\" => U, \"PI_1\" => PI_1)\n",
    "    \n",
    "    PI_0_matrix = Matrices[p0[1]]\n",
    "    for i = 2:L\n",
    "        PI_0_matrix = kron(PI_0_matrix,Matrices[p0[i]])\n",
    "    end        \n",
    "        \n",
    "    PI_1_matrix = Matrices[p1[1]]   \n",
    "    for i = 2:L\n",
    "        PI_1_matrix = kron(PI_1_matrix,Matrices[p1[i]])        \n",
    "    end\n",
    "             \n",
    "    # The identity in the following line needs to be replaced.\n",
    "    return Identity(2^L) - PI_0_matrix + PI_1_matrix     \n",
    "end;"
   ]
  },
  {
   "cell_type": "markdown",
   "id": "5e666b4d-02d7-4aee-a8ef-39acd3718bda",
   "metadata": {
    "jp-MarkdownHeadingCollapsed": true,
    "tags": []
   },
   "source": [
    "## Multicontrolled gate"
   ]
  },
  {
   "cell_type": "code",
   "execution_count": 273,
   "id": "061b27ee-40d6-44c6-898c-802d18888024",
   "metadata": {},
   "outputs": [],
   "source": [
    "function MCX_Reconstructed(DELTA)\n",
    "    \n",
    "    # Following iterates over the noise list.\n",
    "    Noise_Counter = 1\n",
    "    \n",
    "    #C_1 = [];\n",
    "    #C_2 = [];\n",
    "    #C_3 = [];\n",
    "    #C_4 = [];\n",
    "    #C_5 = [];\n",
    "    #C_6 = [];\n",
    "    \n",
    "    # Creating an empty matrix to store the MCX matrix.\n",
    "    MCX = sparse(Identity(2^L));\n",
    "    \n",
    "    #=\n",
    "    The following loops generates all the controlled Rx gates as\n",
    "    described in arXiv:1303.3557. It generates six layers of gates\n",
    "    as mentioned in the paper. The loops can be checked by running\n",
    "    each of them manually.\n",
    "    \n",
    "    =#\n",
    "    # C_1.\n",
    "    for i = 1:L-2\n",
    "        for j = 1:i\n",
    "            #push!(C_1,[j,L-i,L-i+j])\n",
    "            \n",
    "            epsilon = NOISE[Noise_Counter]\n",
    "            MCX = CU(Rx((pi/2^j)+DELTA*epsilon), L-i, L-i+j)*MCX\n",
    "            Noise_Counter += 1\n",
    "            \n",
    "        end\n",
    "    end\n",
    "\n",
    "    # C_2.\n",
    "    for i = 2:L\n",
    "        #push!(C_2,[i-2,1,i])\n",
    "        \n",
    "        epsilon = NOISE[Noise_Counter]\n",
    "        MCX = CU(Rx((pi/2^(i-2))+DELTA*epsilon), 1, i)*MCX\n",
    "        Noise_Counter += 1\n",
    "        \n",
    "    end\n",
    "\n",
    "    # C3 = - C1.\n",
    "    for i = L-2:-1:1\n",
    "        for j = i:-1:1\n",
    "            #push!(C_3,[j,L-i,L-i+j])        \n",
    "            epsilon = NOISE[Noise_Counter]\n",
    "            MCX = CU(Rx((-pi/2^j)+DELTA*epsilon), L-i, L-i+j)*MCX\n",
    "            Noise_Counter += 1\n",
    "        end\n",
    "    end\n",
    "\n",
    "    # C_4.\n",
    "    for i = 1:L-3\n",
    "        for j = 1:i\n",
    "            #push!(C_4,[j,L-i-1,L-i+j-1])          \n",
    "            epsilon = NOISE[Noise_Counter]\n",
    "            MCX = CU(Rx((pi/2^j)+DELTA*epsilon), L-i-1, L-i-1+j)*MCX\n",
    "            Noise_Counter += 1\n",
    "        end    \n",
    "    end\n",
    "\n",
    "    # C_5.\n",
    "    for i = 2:L-1\n",
    "        #push!(C_5,[i-2,1,i])       \n",
    "        epsilon = NOISE[Noise_Counter]\n",
    "        MCX = CU(Rx((-pi/2^(i-2))+DELTA*epsilon), 1, i)*MCX\n",
    "        Noise_Counter += 1\n",
    "        \n",
    "    end\n",
    "\n",
    "    # C6 = - C4.\n",
    "    for i = L-3:-1:1\n",
    "        for j = i:-1:1\n",
    "            #push!(C_6,[j,L-i-1,L-i-1+j])         \n",
    "            epsilon = NOISE[Noise_Counter]\n",
    "            MCX = CU(Rx((-pi/2^j)+DELTA*epsilon), L-i-1, L-i-1+j)*MCX\n",
    "            Noise_Counter += 1\n",
    "            \n",
    "        end    \n",
    "    end\n",
    "    return sparse(MCX)\n",
    "end    ;"
   ]
  },
  {
   "cell_type": "markdown",
   "id": "75175b64-47c7-40b1-885a-0e964b5a868c",
   "metadata": {
    "tags": []
   },
   "source": [
    "# Construction of  $H_{\\rm eff}$"
   ]
  },
  {
   "cell_type": "code",
   "execution_count": 274,
   "id": "dd0d67ab-b587-44ce-85b2-f903e71dd107",
   "metadata": {},
   "outputs": [],
   "source": [
    "List_of_H = [];"
   ]
  },
  {
   "cell_type": "markdown",
   "id": "081bbeef-6ec6-4a61-96cf-9dea2dd2fda8",
   "metadata": {},
   "source": [
    "## U_0 matrix"
   ]
  },
  {
   "cell_type": "code",
   "execution_count": 275,
   "id": "6e10782b-2acf-41a7-94c0-5ac99500899d",
   "metadata": {},
   "outputs": [],
   "source": [
    "#= U0 = MCZ = X^(1) X^(2)...X^(L-1) H^(t) MCX X^(1) X^(2)...X^(L-1) H^(t). =#\n",
    "\n",
    "U0_XHL_Gates = []\n",
    "for i = 1:L-1\n",
    "    push!(U0_XHL_Gates,[\"X\",i])\n",
    "end    \n",
    "push!(U0_XHL_Gates,[\"H\",L])\n",
    "\n",
    "#=\n",
    "Creating a list for the gates on the right hand side of MCX gate.\n",
    "=#\n",
    "U0_XHR_Gates = []\n",
    "for i = 1:L-1\n",
    "    push!(U0_XHR_Gates,[\"X\",i])\n",
    "end\n",
    "push!(U0_XHR_Gates,[\"H\",L])\n",
    "\n",
    "global Noise_Counter = 1\n",
    "function U0_reconstructed(DELTA)\n",
    "    \n",
    "    # Following iterates over the noise list.\n",
    "    \n",
    "    \n",
    "    # Creating an empty matrix to store the MCX matrix.\n",
    "    MCX = sparse(Identity(2^L));\n",
    "    \n",
    "    XHL_Matrix = sparse(Identity(2^L))\n",
    "    for i in U0_XHL_Gates\n",
    "        \n",
    "        if i[1] == \"H\"\n",
    "            \n",
    "            epsilon = NOISE[Noise_Counter]\n",
    "            CRX = Matrix_Gate(Hadamard(DELTA*epsilon), i[2]) \n",
    "            XHL_Matrix = XHL_Matrix*CRX\n",
    "            push!(List_of_H,[\"H\", DELTA*epsilon,i[2]])\n",
    "            global Noise_Counter += 1 \n",
    "            \n",
    "        elseif i[1] == \"X\"\n",
    "            \n",
    "            epsilon = NOISE[Noise_Counter]\n",
    "            CRX = Matrix_Gate(CX(DELTA*epsilon),i[2])#Rx(pi+DELTA*epsilon)\n",
    "            XHL_Matrix = XHL_Matrix*CRX\n",
    "            push!(List_of_H,[\"X\", DELTA*epsilon,i[2]])\n",
    "            global Noise_Counter += 1 \n",
    "            \n",
    "        end\n",
    "    end\n",
    "    \n",
    "    #= Constructing the multicontrolled Toffoli gate. =# \n",
    "    # C_1.\n",
    "    for i = 1:L-2\n",
    "        for j = 1:i\n",
    "            #push!(C_1,[j,L-i,L-i+j])\n",
    "            \n",
    "            epsilon = NOISE[Noise_Counter]\n",
    "            CRX = CU(Rx((pi/2^j)+DELTA*epsilon), L-i, L-i+j)\n",
    "            MCX = CRX*MCX\n",
    "            push!(List_of_H,[pi/2^j+DELTA*epsilon, L-i, L-i+j])\n",
    "            global Noise_Counter += 1\n",
    "            \n",
    "        end\n",
    "    end\n",
    "\n",
    "    # C_2.\n",
    "    for i = 2:L\n",
    "        #push!(C_2,[i-2,1,i])\n",
    "        \n",
    "        epsilon = NOISE[Noise_Counter]\n",
    "        CRX = CU(Rx((pi/2^(i-2))+DELTA*epsilon), 1, i)\n",
    "        MCX = CRX*MCX\n",
    "        push!(List_of_H, [pi/2^(i-2)+DELTA*epsilon, 1, i])\n",
    "        global Noise_Counter += 1\n",
    "        \n",
    "    end\n",
    "\n",
    "    # C3 = - C1.\n",
    "    for i = L-2:-1:1\n",
    "        for j = i:-1:1\n",
    "            #push!(C_3,[j,L-i,L-i+j])        \n",
    "            epsilon = NOISE[Noise_Counter]\n",
    "            CRX = CU(Rx((-pi/2^j)+DELTA*epsilon), L-i, L-i+j)\n",
    "            MCX = CRX*MCX\n",
    "            push!(List_of_H,[-pi/2^j+DELTA*epsilon, L-i, L-i+j])\n",
    "            global Noise_Counter += 1\n",
    "        end\n",
    "    end\n",
    "\n",
    "    # C_4.\n",
    "    for i = 1:L-3\n",
    "        for j = 1:i\n",
    "            #push!(C_4,[j,L-i-1,L-i+j-1])          \n",
    "            epsilon = NOISE[Noise_Counter]\n",
    "            CRX = CU(Rx((pi/2^j)+DELTA*epsilon), L-i-1, L-i-1+j)\n",
    "            MCX = CRX*MCX\n",
    "            push!(List_of_H,[pi/2^j+DELTA*epsilon,L-i-1, L-i-1+j])\n",
    "            global Noise_Counter += 1\n",
    "        end    \n",
    "    end\n",
    "\n",
    "    # C_5.\n",
    "    for i = 2:L-1\n",
    "        #push!(C_5,[i-2,1,i])       \n",
    "        epsilon = NOISE[Noise_Counter]\n",
    "        CRX = CU(Rx((-pi/2^(i-2))+DELTA*epsilon), 1, i)\n",
    "        MCX = CRX*MCX\n",
    "        push!(List_of_H,[-pi/2^(i-2)+DELTA*epsilon,1, i])\n",
    "        global Noise_Counter += 1\n",
    "        \n",
    "    end\n",
    "\n",
    "    # C6 = - C4.\n",
    "    for i = L-3:-1:1\n",
    "        for j = i:-1:1\n",
    "            #push!(C_6,[j,L-i-1,L-i-1+j])         \n",
    "            epsilon = NOISE[Noise_Counter]\n",
    "            CRX = CU(Rx((-pi/2^j)+DELTA*epsilon), L-i-1, L-i-1+j)\n",
    "            MCX = CRX*MCX\n",
    "            push!(List_of_H,[-pi/2^j+DELTA*epsilon,L-i-1, L-i-1+j])\n",
    "            global Noise_Counter += 1            \n",
    "        end    \n",
    "    end\n",
    "\n",
    "    XHR_Matrix = sparse(Identity(2^L))\n",
    "    for j in U0_XHR_Gates\n",
    "        if j[1] == \"H\"\n",
    "            \n",
    "            epsilon = NOISE[Noise_Counter]\n",
    "            CRX = Matrix_Gate(Hadamard(DELTA*epsilon), j[2])\n",
    "            XHR_Matrix = XHR_Matrix*CRX\n",
    "            push!(List_of_H,[\"H\", DELTA*epsilon,j[2]])\n",
    "            global Noise_Counter += 1 \n",
    "            \n",
    "        elseif j[1] == \"X\"\n",
    "            \n",
    "            epsilon = NOISE[Noise_Counter]\n",
    "            CRX = Matrix_Gate(CX(DELTA*epsilon),j[2])\n",
    "            XHR_Matrix = XHR_Matrix*CRX\n",
    "            push!(List_of_H,[\"X\", DELTA*epsilon,j[2]])\n",
    "            global Noise_Counter += 1 \n",
    "        end\n",
    "    end\n",
    "    #= MCZ = X^(1) X^(2)...X^(L-1) H^(t) MCX X^(1) X^(2)...X^(L-1) H^(t) = MCZ. =#\n",
    "    return sparse(XHL_Matrix*MCX*XHR_Matrix)\n",
    "end;\n"
   ]
  },
  {
   "cell_type": "markdown",
   "id": "eb25a51d-096b-4d6c-9f48-0dc9f2d7b4af",
   "metadata": {},
   "source": [
    "## Ux matrix"
   ]
  },
  {
   "cell_type": "code",
   "execution_count": 276,
   "id": "d43b0156-cc24-4101-8347-3a1189645d77",
   "metadata": {},
   "outputs": [],
   "source": [
    "#= Ux = H^(1) H^(2) ... H^(L-1) X^(1) X^(2)...X^(L-1) MCX X^(1) X^(2)...X^(L-1) H^(1) H^(2) ... H^(L-1). =#\n",
    "Ux_XHL_Gates = []\n",
    "for i = 1:L-1\n",
    "    push!(Ux_XHL_Gates,[\"H\",i])\n",
    "end    \n",
    "for i = 1:L-1\n",
    "    push!(Ux_XHL_Gates,[\"X\",i])\n",
    "end  \n",
    "\n",
    "Ux_XHR_Gates = []\n",
    "for i = 1:L-1\n",
    "    push!(Ux_XHR_Gates,[\"X\",i])\n",
    "end    \n",
    "for i = 1:L-1\n",
    "    push!(Ux_XHR_Gates,[\"H\",i])\n",
    "end\n",
    "\n",
    "function Ux_reconstructed(DELTA)\n",
    "\n",
    "    #Noise_Counter = 2*L^2-4*L+7\n",
    "\n",
    "    # Creating an empty matrix to store the MCX matrix.\n",
    "    MCX = sparse(Identity(2^L));\n",
    "    \n",
    "    XHL_Matrix = sparse(Identity(2^L))\n",
    "    for i in Ux_XHL_Gates\n",
    "        \n",
    "        if i[1] == \"H\"\n",
    "            \n",
    "            epsilon = NOISE[Noise_Counter]\n",
    "            CRX = Matrix_Gate(Hadamard(DELTA*epsilon), i[2])\n",
    "            XHL_Matrix = XHL_Matrix*CRX\n",
    "            push!(List_of_H,[\"H\", DELTA*epsilon,i[2]])\n",
    "            global Noise_Counter += 1 \n",
    "            \n",
    "        elseif i[1] == \"X\"\n",
    "            \n",
    "            epsilon = NOISE[Noise_Counter]\n",
    "            CRX = Matrix_Gate(CX(DELTA*epsilon),i[2])\n",
    "            XHL_Matrix = XHL_Matrix*CRX\n",
    "            push!(List_of_H,[\"X\", DELTA*epsilon,i[2]])\n",
    "            global Noise_Counter += 1 \n",
    "            \n",
    "        end\n",
    "    end\n",
    "    \n",
    "    #= Contructing the multicontrolled Toffoli gate. =#\n",
    "    # C_1.\n",
    "    for i = 1:L-2\n",
    "        for j = 1:i\n",
    "            #push!(C_1,[j,L-i,L-i+j])\n",
    "            \n",
    "            epsilon = NOISE[Noise_Counter]\n",
    "            CRX = CU(Rx((pi/2^j)+DELTA*epsilon), L-i, L-i+j)\n",
    "            MCX = CRX*MCX\n",
    "            push!(List_of_H,[pi/2^j+DELTA*epsilon,L-i, L-i+j])\n",
    "            global Noise_Counter += 1          \n",
    "        end\n",
    "    end\n",
    "\n",
    "    # C_2.\n",
    "    for i = 2:L\n",
    "        #push!(C_2,[i-2,1,i])\n",
    "        \n",
    "        epsilon = NOISE[Noise_Counter]\n",
    "        CRX = CU(Rx((pi/2^(i-2))+DELTA*epsilon), 1, i)\n",
    "        MCX = CRX*MCX\n",
    "        push!(List_of_H,[pi/2^(i-2)+DELTA*epsilon, 1, i])\n",
    "        global Noise_Counter += 1\n",
    "        \n",
    "    end\n",
    "\n",
    "    # C3 = - C1.\n",
    "    for i = L-2:-1:1\n",
    "        for j = i:-1:1\n",
    "            #push!(C_3,[j,L-i,L-i+j])        \n",
    "            epsilon = NOISE[Noise_Counter]\n",
    "            CRX = CU(Rx((-pi/2^j)+DELTA*epsilon), L-i, L-i+j)\n",
    "            MCX = CRX*MCX\n",
    "            push!(List_of_H,[-pi/2^j+DELTA*epsilon,L-i, L-i+j])\n",
    "            global Noise_Counter += 1\n",
    "        end\n",
    "    end\n",
    "\n",
    "    # C_4.\n",
    "    for i = 1:L-3\n",
    "        for j = 1:i\n",
    "            #push!(C_4,[j,L-i-1,L-i+j-1])          \n",
    "            epsilon = NOISE[Noise_Counter]\n",
    "            CRX = CU(Rx((pi/2^j)+DELTA*epsilon), L-i-1, L-i-1+j)\n",
    "            MCX = CRX*MCX\n",
    "            push!(List_of_H,[pi/2^j+DELTA*epsilon, L-i-1, L-i-1+j])\n",
    "            global Noise_Counter += 1\n",
    "        end    \n",
    "    end\n",
    "\n",
    "    # C_5.\n",
    "    for i = 2:L-1\n",
    "        #push!(C_5,[i-2,1,i])       \n",
    "        epsilon = NOISE[Noise_Counter]\n",
    "        CRX = CU(Rx((-pi/2^(i-2))+DELTA*epsilon), 1, i)\n",
    "        MCX = CRX*MCX\n",
    "        push!(List_of_H,[-pi/2^(i-2)+DELTA*epsilon,1, i])\n",
    "        global Noise_Counter += 1\n",
    "        \n",
    "    end\n",
    "\n",
    "    # C6 = - C4.\n",
    "    for i = L-3:-1:1\n",
    "        for j = i:-1:1\n",
    "            #push!(C_6,[j,L-i-1,L-i-1+j])         \n",
    "            epsilon = NOISE[Noise_Counter]\n",
    "            CRX = CU(Rx((-pi/2^j)+DELTA*epsilon), L-i-1, L-i-1+j)\n",
    "            MCX = CRX*MCX\n",
    "            push!(List_of_H,[-pi/2^j+DELTA*epsilon,L-i-1, L-i-1+j])\n",
    "            global Noise_Counter += 1           \n",
    "        end    \n",
    "    end\n",
    "\n",
    "\n",
    "    \n",
    "    XHR_Matrix = sparse(Identity(2^L))\n",
    "    for j in Ux_XHR_Gates\n",
    "        if j[1] == \"H\"          \n",
    "            epsilon = NOISE[Noise_Counter]\n",
    "            CRX = Matrix_Gate(Hadamard(DELTA*epsilon), j[2]) \n",
    "            XHR_Matrix = XHR_Matrix*CRX\n",
    "            push!(List_of_H,[\"H\", DELTA*epsilon,j[2]])\n",
    "            global Noise_Counter += 1          \n",
    "        elseif j[1] == \"X\"         \n",
    "            epsilon = NOISE[Noise_Counter]\n",
    "            CRX = Matrix_Gate(CX(DELTA*epsilon),j[2])\n",
    "            XHR_Matrix = XHR_Matrix*CRX\n",
    "            push!(List_of_H,[\"X\", DELTA*epsilon,j[2]])\n",
    "            global Noise_Counter += 1 \n",
    "        end\n",
    "    end\n",
    "    return sparse(XHL_Matrix*MCX*XHR_Matrix)\n",
    "end;"
   ]
  },
  {
   "cell_type": "code",
   "execution_count": 277,
   "id": "3bc891e0-6543-46b9-9c22-6dbfc2fc3959",
   "metadata": {},
   "outputs": [],
   "source": [
    "Grover(DELTA) = collect(Ux_reconstructed(DELTA) * U0_reconstructed(DELTA));"
   ]
  },
  {
   "cell_type": "code",
   "execution_count": 278,
   "id": "5cd523a2-a466-485a-8c59-6bbb0cf607b4",
   "metadata": {},
   "outputs": [],
   "source": [
    "U0 = collect(U0_reconstructed(0.0));\n",
    "Ux = collect(Ux_reconstructed(0.0));\n",
    "A = ones(2^L,2^L);\n",
    "U_x = (2/2^L)*A-Identity(2^L);"
   ]
  },
  {
   "cell_type": "code",
   "execution_count": 237,
   "id": "f13af68b-734c-492f-a46e-a1011d0368ba",
   "metadata": {},
   "outputs": [],
   "source": [
    "#MCX = MCX_Reconstructed(0.0);"
   ]
  },
  {
   "cell_type": "code",
   "execution_count": 238,
   "id": "75178372-984b-4128-aa8a-5f8e54c6b154",
   "metadata": {},
   "outputs": [],
   "source": [
    "#=\n",
    "L = 3;\n",
    "I2 = [[1,0] [0,1]]\n",
    "X = [[0,1] [1,0]]\n",
    "Z = [[1,0] [0,-1]];\n",
    "Rx(pi)\n",
    "=#"
   ]
  },
  {
   "cell_type": "markdown",
   "id": "ee75349b-0e3d-4e9c-a18d-999341d75ebc",
   "metadata": {
    "tags": []
   },
   "source": [
    "### CRX to H\n",
    "The following function takes a list of the form $[\\theta+\\delta \\epsilon,c,t], [\"H\",\\delta \\epsilon,qubit],[\"X\",\\delta \\epsilon,qubit]$, and returns the corresponding list containing $H$ matrix for all the unitary gates in the input list where $$CR_{x}(\\theta)= \\exp\\{-i \\frac{I-Z}{2} \\otimes \\frac{I+X}{2}\\theta\\} =\\exp\\{-i H \\theta\\} $$ And $$ Had = \\exp\\{ -i \\frac{\\pi}{2}(I-Had)\\} = \\exp\\{ -i \\theta H\\} $$ And $$X = \\exp\\{ -i \\frac{\\pi}{2} (X-I)\\} = \\exp\\{-i\\theta H\\} $$"
   ]
  },
  {
   "cell_type": "code",
   "execution_count": 239,
   "id": "d21f64d4-958c-4fe4-8629-b6f59889be9f",
   "metadata": {},
   "outputs": [
    {
     "data": {
      "text/plain": [
       "CRX2H (generic function with 1 method)"
      ]
     },
     "execution_count": 239,
     "metadata": {},
     "output_type": "execute_result"
    }
   ],
   "source": [
    "function CRX2H(List)\n",
    "    \n",
    "    #= The list will contain all the gates in the aforementioned structure. =#\n",
    "    I2 = [[1,0] [0,1]]\n",
    "    X = [[0,1] [1,0]]\n",
    "    Z = [[1,0] [0,-1]]\n",
    "    \n",
    "    H_list = []\n",
    "    for i in List\n",
    "        \n",
    "        if i[1] == \"H\"\n",
    "            Noise = i[2] # delta*epsilon.\n",
    "            Qubit = i[3] # qubit.\n",
    "            Unitary = Matrix_Gate(I2-Hadamard(Noise),Qubit) #= H_had = I2-Had. =#\n",
    "            push!(H_list,[Unitary])\n",
    "            \n",
    "        elseif i[1] == \"X\"\n",
    "            Noise = i[2] # delta*epsilon.\n",
    "            Qubit = i[3] # qubit.\n",
    "            Unitary = Matrix_Gate(X-I2,Qubit) #= H_X = X-I2. =#\n",
    "            push!(H_list,[Unitary])\n",
    "            \n",
    "        else #= [noise,control,qubit]. =#\n",
    "            Angle = List[1]\n",
    "            Control_Qubit = int(i[2])\n",
    "            Target_Qubit = int(i[3])\n",
    "            #= H = ((I-Z)/2)_c \\otimes ((I+X)/2)_t.=#\n",
    "            Matrices = Dict(\"I\" => I2,\"U\" => (I2+X)/2, \"PI_1\" => (I2-Z)/2)\n",
    "            p = fill(\"I\", L)\n",
    "            p[Control_Qubit] = \"PI_1\"\n",
    "            p[Target_Qubit] = \"U\"\n",
    "            Unitary = Matrices[p[1]]\n",
    "            for i = 2:L\n",
    "                Unitary = kron(Unitary,Matrices[p[i]])\n",
    "            end                     \n",
    "            push!(H_list,[Unitary])\n",
    "        end \n",
    "    end\n",
    "    return H_list\n",
    "end"
   ]
  },
  {
   "cell_type": "code",
   "execution_count": 240,
   "id": "11363c02-f1da-4630-9110-827b6097a477",
   "metadata": {},
   "outputs": [],
   "source": [
    "#CRX2H(List_of_H);"
   ]
  },
  {
   "cell_type": "code",
   "execution_count": 241,
   "id": "794da57d-4fb7-490a-a7b0-42357fa8613d",
   "metadata": {},
   "outputs": [],
   "source": [
    "#= CRX(theta)=exp(-i*H*theta) =#\n",
    "\n",
    "#= [theta+delta*epsilon,control_qubit,target_qubit], [\"H\",DELTA*epslion,qubit], [\"X\",DELTA*epsilon,qubit]=#\n",
    "function CRX_to_H(List)\n",
    "    \n",
    "    I2 = [[1,0] [0,1]]\n",
    "    X = [[0,1] [1,0]]\n",
    "    Z = [[1,0] [0,-1]]\n",
    "    \n",
    "    if List[1] == \"H\"\n",
    "        Noise = List[2]\n",
    "        Qubit = List[3]\n",
    "        Unitary = Matrix_Gate(I2-Hadamard(Noise),Qubit)\n",
    "        return Unitary\n",
    "        \n",
    "    elseif List[1] == \"X\"\n",
    "        Noise = List[2]\n",
    "        Qubit = List[3]\n",
    "        Unitary = Matrix_Gate(Rx(pi+Noise)-I2,Qubit)\n",
    "        return Unitary\n",
    "        \n",
    "    else #= The matrix is a CRX(theta+delta*epsilon).=#\n",
    "        Angle = List[1]\n",
    "        Control_Qubit = int(List[2])\n",
    "        Target_Qubit = int(List[3])\n",
    "        #= H = ((I-Z)/2)_c \\otimes ((I+X)/2)_t.=#\n",
    "        Matrices = Dict(\"I\" => I2,\"U\" => (I2+X)/2, \"PI_1\" => (I2-Z)/2)\n",
    "        p = fill(\"I\", L)\n",
    "        p[Control_Qubit] = \"PI_1\"\n",
    "        p[Target_Qubit] = \"U\"\n",
    "        Unitary = Matrices[p[1]]\n",
    "        for i = 2:L\n",
    "            Unitary = kron(Unitary,Matrices[p[i]])\n",
    "        end         \n",
    "        return Unitary  \n",
    "    end\n",
    "end;"
   ]
  },
  {
   "cell_type": "code",
   "execution_count": 242,
   "id": "c3678178-1e5b-46c4-afb3-c491eb0f9e40",
   "metadata": {},
   "outputs": [],
   "source": [
    "#theta = List_of_H[5][1];\n",
    "#control = int(List_of_H[5][2]);\n",
    "#target = int(List_of_H[5][3]);"
   ]
  },
  {
   "cell_type": "markdown",
   "id": "5ef16d6b-9f27-4644-b652-c78962f57eaf",
   "metadata": {
    "tags": []
   },
   "source": [
    "### Verification of the CRX to H function for CRX gates. (WORKING) ##"
   ]
  },
  {
   "cell_type": "code",
   "execution_count": 243,
   "id": "8871b5f4-848c-4165-8c97-7553a7d3c8c6",
   "metadata": {},
   "outputs": [],
   "source": [
    "#exp(-1im*CRX_to_H(List_of_H[5])*theta)-CU(Rx(theta), control, target)"
   ]
  },
  {
   "cell_type": "code",
   "execution_count": 244,
   "id": "bc908e84-c24c-4db7-b330-40aaac10049c",
   "metadata": {},
   "outputs": [],
   "source": [
    "#HL[1];\n",
    "#Angle = HL[1][1]\n",
    "#c = int(HL[1][2])\n",
    "#t = int(HL[1][3])"
   ]
  },
  {
   "cell_type": "code",
   "execution_count": 245,
   "id": "ce61cc69-a0d2-4151-b244-03294cae1188",
   "metadata": {},
   "outputs": [],
   "source": [
    "## L = 8\n",
    "#H = CRX_to_H(HL[1]);\n",
    "#exp(-1im*H*Angle)-CU(Rx(Angle), c, t)"
   ]
  },
  {
   "cell_type": "code",
   "execution_count": 246,
   "id": "657f9acf-3706-4640-967d-b394aad397fe",
   "metadata": {},
   "outputs": [],
   "source": [
    "#I2 = [[1,0] [0,1]]\n",
    "#X = [[0,1] [1,0]]\n",
    "#Z = [[1,0] [0,-1]];"
   ]
  },
  {
   "cell_type": "code",
   "execution_count": 247,
   "id": "8dc5c1d6-6b5a-4ba1-b300-e0405ebb7a5b",
   "metadata": {},
   "outputs": [],
   "source": [
    "#theta = pi/3\n",
    "#H = kron((I2-Z)/2,(I+X)/2)\n",
    "#exp(-1im*(theta)*H)"
   ]
  },
  {
   "cell_type": "code",
   "execution_count": 248,
   "id": "a0e7601d-e5d6-436d-831d-c49d7d33f61f",
   "metadata": {},
   "outputs": [],
   "source": [
    "#length(HL)"
   ]
  },
  {
   "cell_type": "code",
   "execution_count": 249,
   "id": "027d95c9-332f-4746-bcc8-bf8748d8d9cd",
   "metadata": {},
   "outputs": [
    {
     "name": "stdout",
     "output_type": "stream",
     "text": [
      "9\n",
      "8\n",
      "7\n",
      "6\n",
      "5\n",
      "4\n"
     ]
    }
   ],
   "source": [
    "list = [1,2,3,4,5,6,7,8,9]\n",
    "function k_term(k)\n",
    "for i = k:length(list)\n",
    "    #println(i)\n",
    "    println(list[length(list)-i+k])\n",
    "    #println(list[i])\n",
    "end\n",
    "end\n",
    "k_term(4)"
   ]
  },
  {
   "cell_type": "code",
   "execution_count": 282,
   "id": "aa879203-2a29-4fb9-841e-eee777c555d8",
   "metadata": {},
   "outputs": [],
   "source": [
    "HL = List_of_H;\n",
    "#= The following list contains all the H of the CRXs used in the Grover. =#\n",
    "Hs_list = CRX2H(List_of_H);"
   ]
  },
  {
   "cell_type": "code",
   "execution_count": 290,
   "id": "8ee527a5-32a5-4734-95a6-fab8122531c2",
   "metadata": {},
   "outputs": [
    {
     "data": {
      "text/plain": [
       "16×16 Matrix{Float64}:\n",
       "  0.292893  -0.707107   0.0       …   0.0        0.0        0.0\n",
       " -0.707107   1.70711    0.0           0.0        0.0        0.0\n",
       "  0.0        0.0        0.292893      0.0        0.0        0.0\n",
       "  0.0        0.0       -0.707107      0.0        0.0        0.0\n",
       "  0.0        0.0        0.0           0.0        0.0        0.0\n",
       "  0.0        0.0        0.0       …   0.0        0.0        0.0\n",
       "  0.0        0.0        0.0           0.0        0.0        0.0\n",
       "  0.0        0.0        0.0           0.0        0.0        0.0\n",
       "  0.0        0.0        0.0           0.0        0.0        0.0\n",
       "  0.0        0.0        0.0           0.0        0.0        0.0\n",
       "  0.0        0.0        0.0       …   0.0        0.0        0.0\n",
       "  0.0        0.0        0.0           0.0        0.0        0.0\n",
       "  0.0        0.0        0.0          -0.707107   0.0        0.0\n",
       "  0.0        0.0        0.0           1.70711    0.0        0.0\n",
       "  0.0        0.0        0.0           0.0        0.292893  -0.707107\n",
       "  0.0        0.0        0.0       …   0.0       -0.707107   1.70711"
      ]
     },
     "execution_count": 290,
     "metadata": {},
     "output_type": "execute_result"
    }
   ],
   "source": [
    "collect(Hs_list[4][1])"
   ]
  },
  {
   "cell_type": "code",
   "execution_count": null,
   "id": "64015fc3-9aa1-4b52-a37b-1617be908b25",
   "metadata": {},
   "outputs": [],
   "source": [
    "function kth_term(k)\n",
    "    p = Identity(2^L);\n",
    "    q = Identity(2^L);\n",
    "    for i = k:length(HL)\n",
    "        #= exp(-iH_{N} theta_{N}) exp(-iH_{N-1} theta_{N-1})...exp(-iH_{k+1} theta_{k+1}) exp(-iH_{k} theta_{k}). =#\n",
    "        h_i = Hs[length(Hs)-i+k]\n",
    "        if x1 == \"H\"\n",
    "            p = p*exp(-1im*(pi/2)*(I(2^L)-h_i))\n",
    "            #CRX = Matrix_Gate(Hadamard(x2),int(x3))\n",
    "        elseif x1 == \"X\"\n",
    "            CRX = Matrix_Gate(Rx(pi+x2),int(x3))\n",
    "        else\n",
    "            CRX = CU(Rx(x1), int(x2), int(x3))\n",
    "        end\n",
    "        p *= CRX # Counting in reverse.        \n",
    "    end\n",
    "end"
   ]
  },
  {
   "cell_type": "code",
   "execution_count": 104,
   "id": "6bd80325-cad6-43db-bedd-458a28455ab2",
   "metadata": {},
   "outputs": [
    {
     "data": {
      "text/plain": [
       "k_term (generic function with 1 method)"
      ]
     },
     "execution_count": 104,
     "metadata": {},
     "output_type": "execute_result"
    }
   ],
   "source": [
    "#= HL=[[theta+delta*epsilon,control_qubit,target_qubit], [\"H\",DELTA*epslion,qubit], [\"X\",pi+DELTA*epsilon,qubit]].=#\n",
    "function k_term(k)\n",
    "        p = Identity(2^L);\n",
    "        q = Identity(2^L);\n",
    "        for i = k:length(HL)\n",
    "            #= exp(-iH_{k+1} theta_{k+1})...exp(-iH_{N-1} theta_{N-1})exp(-iH_{N} theta_{N}). =#\n",
    "            x1 = HL[length(HL)-i+k][1]#= theta/\"H\"/\"X\".=#\n",
    "            x2 = HL[length(HL)-i+k][2]#= control_qubit/delta*epsilon/pi+delta*epsilon.=#\n",
    "            x3 = HL[length(HL)-i+k][3]#= target_qubit/qubit/qubit.=#\n",
    "            if x1 == \"H\"\n",
    "                CRX = Matrix_Gate(Hadamard(x2),int(x3))\n",
    "            elseif x1 == \"X\"\n",
    "                CRX = Matrix_Gate(Rx(pi+x2),int(x3))\n",
    "            else\n",
    "                CRX = CU(Rx(x1), int(x2), int(x3))\n",
    "            end\n",
    "            p *= CRX # Counting in reverse.\n",
    "              \n",
    "            #= exp(iH_{k+1} theta_{k+1})...exp(iH_{N-1} theta_{N-1})exp(iH_{N} theta_{N}). =#\n",
    "            y1 = HL[i][1]#= theta/\"H\"/\"X\".=#\n",
    "            y2 = HL[i][2]#= control_qubit/delta*epsilon/pi+delta*epsilon.=#\n",
    "            y3 = HL[i][3]#= target_qubit/qubit/qubit.=#\n",
    "            #= The exponential factors has positive sign. We have to do some extra work. =#\n",
    "            M1 = collect(CRX_to_H(HL[i]))\n",
    "            \n",
    "            if y1 == \"H\"\n",
    "                CRX = exp(1im*y2*M1) #Matrix_Gate(Hadamard(x2),int(x3))\n",
    "            elseif y1 == \"X\"\n",
    "                CRX = exp(1im*y2*M1)#Matrix_Gate(Rx(pi+x2),int(x3))\n",
    "            else\n",
    "                CRX = exp(1im*y1*M1)#CU(Rx(x1), int(x2), int(x3))\n",
    "            end            \n",
    "            q *= CRX # Counting normally.\n",
    "        end\n",
    "    return p*CRX_to_H(HL[k])*q\n",
    "end"
   ]
  },
  {
   "cell_type": "code",
   "execution_count": 105,
   "id": "d6f380ea-d7a4-42d0-8560-c89b2dfef49f",
   "metadata": {},
   "outputs": [],
   "source": [
    "#k_term(210)"
   ]
  },
  {
   "cell_type": "code",
   "execution_count": 106,
   "id": "f914b5d5-e714-4eea-a4ff-35e1bfe13c36",
   "metadata": {},
   "outputs": [
    {
     "data": {
      "text/plain": [
       "H_eff (generic function with 1 method)"
      ]
     },
     "execution_count": 106,
     "metadata": {},
     "output_type": "execute_result"
    }
   ],
   "source": [
    "function H_eff(DELTA)\n",
    "    \n",
    "    #H_counter = 4*L^2-6*L+10;\n",
    "    #HL = List_of_H(DELTA) # Entry := [H,angle].\n",
    "    \n",
    "    \n",
    "    #= The following loop sums over all epsilon to get H_eff. =#\n",
    "    h_eff = zeros(2^L,2^L);\n",
    "    for i = 1:length(HL)\n",
    "        h_eff += NOISE[i].*k_term(i)\n",
    "    end\n",
    "    return h_eff\n",
    "end     "
   ]
  },
  {
   "cell_type": "code",
   "execution_count": 107,
   "id": "0ce13509-2982-4d18-8a40-368a34915580",
   "metadata": {},
   "outputs": [],
   "source": [
    "#difference(DELTA) = Grover(0.0) - H_eff(DELTA);"
   ]
  },
  {
   "cell_type": "code",
   "execution_count": 108,
   "id": "5fc681d2-c437-4e27-9ce1-b1a575b04966",
   "metadata": {},
   "outputs": [],
   "source": [
    "delta = 0.02\n",
    "D = delta*H_eff(delta);"
   ]
  },
  {
   "cell_type": "code",
   "execution_count": 109,
   "id": "54f2bc3c-7735-4a68-be2e-c4088fa25e6b",
   "metadata": {},
   "outputs": [],
   "source": [
    "py\"\"\"\n",
    "f = open('heff_data'+'.txt', 'w')\n",
    "def Write_file(row_index, column_index, element):\n",
    "    f = open('heff_data'+'.txt', 'a')\n",
    "    f.write(str(row_index) +'\\t'+ str(column_index)+ '\\t' + str(element) +'\\n')\n",
    "\"\"\""
   ]
  },
  {
   "cell_type": "code",
   "execution_count": 110,
   "id": "64a05a78-bb37-46f6-a9fb-6b314250a540",
   "metadata": {},
   "outputs": [],
   "source": [
    "for i=1:2^L\n",
    "    for j=1:2^L\n",
    "        py\"Write_file\"(i,j,D[i,j])\n",
    "    end\n",
    "end"
   ]
  }
 ],
 "metadata": {
  "kernelspec": {
   "display_name": "Julia 1.8.1",
   "language": "julia",
   "name": "julia-1.8"
  },
  "language_info": {
   "file_extension": ".jl",
   "mimetype": "application/julia",
   "name": "julia",
   "version": "1.8.1"
  }
 },
 "nbformat": 4,
 "nbformat_minor": 5
}
