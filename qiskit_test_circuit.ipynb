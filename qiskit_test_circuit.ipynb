{
 "cells": [
  {
   "cell_type": "code",
   "execution_count": 1,
   "id": "9cfd33ab-caa1-4c8c-a370-140123192751",
   "metadata": {},
   "outputs": [],
   "source": [
    "from qiskit import*"
   ]
  },
  {
   "cell_type": "code",
   "execution_count": 17,
   "id": "517602ea-7c51-4b16-9f7a-97107eebce11",
   "metadata": {},
   "outputs": [],
   "source": [
    "qc = QuantumCircuit(2)\n",
    "qc.x(0)\n",
    "qc.h(1)\n",
    "qc.cx(0,1)\n",
    "qc.x(0)\n",
    "qc.h(1)\n",
    "qc.barrier()\n",
    "qc.h(0)\n",
    "qc.x(0)\n",
    "qc.cx(0,1)\n",
    "qc.x(0)\n",
    "qc.h(0)\n",
    "qc.draw(\"mpl\").savefig('Grover_circuit_L=2.png',dpi=600)\n"
   ]
  }
 ],
 "metadata": {
  "kernelspec": {
   "display_name": "Python 3 (ipykernel)",
   "language": "python",
   "name": "python3"
  },
  "language_info": {
   "codemirror_mode": {
    "name": "ipython",
    "version": 3
   },
   "file_extension": ".py",
   "mimetype": "text/x-python",
   "name": "python",
   "nbconvert_exporter": "python",
   "pygments_lexer": "ipython3",
   "version": "3.9.12"
  }
 },
 "nbformat": 4,
 "nbformat_minor": 5
}
